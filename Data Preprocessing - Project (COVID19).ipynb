{
  "nbformat": 4,
  "nbformat_minor": 0,
  "metadata": {
    "colab": {
      "name": "pandas_covid_project.ipynb",
      "provenance": [],
      "collapsed_sections": []
    },
    "kernelspec": {
      "name": "python3",
      "display_name": "Python 3"
    }
  },
  "cells": [
    {
      "cell_type": "markdown",
      "metadata": {
        "id": "nFsU-1J4ccPN",
        "colab_type": "text"
      },
      "source": [
        "<center>\n",
        " <h1><b> COVID-19 </b> </h1>\n",
        "</center>\n",
        "\n",
        "Coronavirus (COVID-19) is an infectious disease caused by a new virus, which caused a lot of countries to impose nationwide lockdowns in order to prevent its spread. It is also one of the most trendy topics nowadays. A lot of public health orginazitaions from different countries release datasets reflecting the  distribution of confirmed cases and the number of deathes. Analysis of these datasets is very important in order to take necessary steps for stopping the spread of this disease. Your task will be the analysis of one of these datasets:\n",
        "\n",
        "\n",
        "\n",
        "\n",
        "*   Download the COVID-19 cases worldwide dataset from:\n",
        "\n",
        " https://data.europa.eu/euodp/en/data/dataset/covid-19-coronavirus-data/resource/55e8f966-d5c8-438e-85bc-c7a5a26f4863\n",
        "\n",
        "*   Read the data into Pandas Dataframe and name it `covdf`. Check that Dataframe columns are properly read.\n",
        "\n",
        "*   For each country in the `covdf` Dataframe, determine date of the first confirmed case. Store result as a Pandas Dataframe as well. The resulting Dataframe should have 4 columns: \n",
        "\n",
        "  `country_ame` - Name of the country in countriesAndTerritories column  of `covdf`\n",
        "\n",
        "  `case_date` - the date when first case happened in that ountry\n",
        "\n",
        "  `pop_data` - popData2018 column  of `covdf`\n",
        "\n",
        "  `cases` - the number of the cases in the date\n",
        "\n",
        "*   Write a function which will take the `covdf` Dataframe as argument and return a new Dataframe which will have only the rows where no death has happened. The resulting Dataframe will have exactly the same columns as `covdf`, however only the rows in which there is no death.\n",
        "\n",
        "*   Calculate the number of overall deathes for each country from `covdf`. Store the result as a Dataframe as well. The resulting Dataframe should have 2 columns: \n",
        "\n",
        "  `CountryName` - Name of the country in countriesAndTerritories column  of `covdf`\n",
        "\n",
        "  `number_of_deathes` - the number of overall deathes in that country.\n",
        "\n",
        "\n",
        "*   Write a function which will take the `covdf` Dataframe as argument and for each day will calculate the maximum number of deathes and in which country maximum number of deathes has happened.The resulting Dataframe should have 3 columns: \n",
        "\n",
        "  `date` - one row for each date in `covdf`.\n",
        "\n",
        "  `number_of_deathes` - the number of maximum deathes for that specific `date`.\n",
        "\n",
        "  `CountryName` - Name of the country in which maxiumum number of deathes has happened in that specific day.\n",
        "\n",
        "\n",
        "\n",
        "*   Create a new Dataframe which will hold the number of overall deathes for each day.The resulting Dataframe should have 2 columns: \n",
        "\n",
        "  `date` - one row for each date in `covdf`.\n",
        "\n",
        "  `number_of_deathes` - the number of overall deathes in that date.\n",
        "\n",
        "\n",
        "*   Write a function which will take the `covdf` Dataframe and country name as argument and will visualize number of cases in that country for each day. Use Matplotlib for visualization.\n",
        "\n",
        "\n",
        "*   Write a function which will take the `covdf` Dataframe and two country names as argument and will visualize number of cases in these countries for each day in the same plot. This will allow to compare the number of cases in two countries. Use Matplotlib for visualization.\n",
        "\n",
        "\n",
        "*   Coronavirus disease spreads primarily through contact with an infected person when they cough or sneeze. It also spreads when a person touches a surface or object that has the virus on it, then touches their eyes, nose, or mouth. Your last task is to protect yourself :)\n",
        "\n",
        "\n",
        "\n",
        "\n",
        "\n",
        "\n",
        "\n",
        "\n",
        "\n"
      ]
    },
    {
      "cell_type": "code",
      "metadata": {
        "id": "2cz_PnFRckUI",
        "colab_type": "code",
        "colab": {}
      },
      "source": [
        ""
      ],
      "execution_count": 0,
      "outputs": []
    }
  ]
}